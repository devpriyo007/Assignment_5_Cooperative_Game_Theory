{
 "cells": [
  {
   "cell_type": "code",
   "execution_count": 23,
   "id": "linear-athens",
   "metadata": {},
   "outputs": [],
   "source": [
    "import gurobipy as gp\n",
    "from gurobipy import GRB\n",
    "\n",
    "def myFunction(lowerbound,upperbound):\n",
    "    m = gp.Model(\"feasibility\")\n",
    "    x = m.addVar(lb = -10, ub = 10) #also the first constraint for our problem\n",
    "    y = m.addVar(lb = -GRB.INFINITY, ub = GRB.INFINITY)\n",
    "    z = m.addVar(lb = -GRB.INFINITY, ub = GRB.INFINITY)\n",
    "\n",
    "    m.setObjective(5, GRB.MAXIMIZE) #maximizing a constant to check feasibility\n",
    "\n",
    "    #m.addConstr(x<=10)   .... not needed since we have already defined x's upper bound\n",
    "    #m.addConstr(x>=-10)  .... not needed since we have already defined x's lower bound\n",
    "    m.addConstr(x + 2*y + 3*z <=10)\n",
    "    m.addConstr(x - y - z == 4)\n",
    "    m.addConstr( -x + 2*y - 5*z >=12)\n",
    "    m.addConstr(x + y + z <=5)\n",
    "    extra = m.addConstr(2*x + y + z >=999999) #dummy constraint\n",
    "                                              \n",
    "    ub = upperbound\n",
    "    lb = lowerbound\n",
    "    counter = 0 #will count the number of iterations\n",
    "    while(ub>lb):\n",
    "        gamma = (ub+lb)/2\n",
    "        #m.remove(extra)\n",
    "        #extra = m.addConstr(2*x + y + z >=gamma)\n",
    "        extra.RHS=gamma\n",
    "        m.update()\n",
    "        m.optimize()\n",
    "        if (m.status==GRB.OPTIMAL):\n",
    "            lb=gamma\n",
    "        else:\n",
    "            ub=gamma\n",
    "        counter+=1\n",
    "        if(ub-lb<=0.001): #tolerance level is 0.001\n",
    "            break\n",
    "    print(ub)\n",
    "    print(lb)\n",
    "    return gamma, counter\n",
    "\n",
    "    #m.optimize()\n"
   ]
  },
  {
   "cell_type": "code",
   "execution_count": 28,
   "id": "driving-causing",
   "metadata": {},
   "outputs": [],
   "source": [
    "#myFunction(-100,100)\n",
    "#myFunction(-1000,1000)\n",
    "#myFunction(-10000,10000)"
   ]
  },
  {
   "cell_type": "code",
   "execution_count": null,
   "id": "driven-custody",
   "metadata": {},
   "outputs": [],
   "source": []
  }
 ],
 "metadata": {
  "kernelspec": {
   "display_name": "Python 3",
   "language": "python",
   "name": "python3"
  },
  "language_info": {
   "codemirror_mode": {
    "name": "ipython",
    "version": 3
   },
   "file_extension": ".py",
   "mimetype": "text/x-python",
   "name": "python",
   "nbconvert_exporter": "python",
   "pygments_lexer": "ipython3",
   "version": "3.6.12"
  }
 },
 "nbformat": 4,
 "nbformat_minor": 5
}
