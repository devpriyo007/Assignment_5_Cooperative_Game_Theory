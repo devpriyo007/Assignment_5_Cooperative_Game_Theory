{
 "cells": [
  {
   "cell_type": "code",
   "execution_count": 1,
   "id": "owned-trace",
   "metadata": {},
   "outputs": [
    {
     "name": "stdout",
     "output_type": "stream",
     "text": [
      "Academic license - for non-commercial use only - expires 2021-04-09\n",
      "Using license file C:\\Users\\Dev\\gurobi.lic\n",
      "Gurobi Optimizer version 9.1.1 build v9.1.1rc0 (win64)\n",
      "Thread count: 2 physical cores, 4 logical processors, using up to 4 threads\n",
      "Optimize a model with 1 rows, 7 columns and 7 nonzeros\n",
      "Model fingerprint: 0xad18702e\n",
      "Variable types: 0 continuous, 7 integer (0 binary)\n",
      "Coefficient statistics:\n",
      "  Matrix range     [2e+00, 1e+01]\n",
      "  Objective range  [3e+03, 1e+04]\n",
      "  Bounds range     [3e+00, 3e+00]\n",
      "  RHS range        [7e+01, 7e+01]\n",
      "Found heuristic solution: objective 77700.000000\n",
      "Presolve removed 1 rows and 7 columns\n",
      "Presolve time: 0.11s\n",
      "Presolve: All rows and columns removed\n",
      "\n",
      "Explored 0 nodes (0 simplex iterations) in 0.21 seconds\n",
      "Thread count was 1 (of 4 available processors)\n",
      "\n",
      "Solution count 2: 81800 \n",
      "\n",
      "Optimal solution found (tolerance 1.00e-04)\n",
      "Best objective 8.180000000000e+04, best bound 8.180000000000e+04, gap 0.0000%\n"
     ]
    }
   ],
   "source": [
    "import gurobipy as gp\n",
    "from gurobipy import GRB\n",
    "\n",
    "commodities, price, weight = gp.multidict({\n",
    "    'books': [7500, 6],\n",
    "    'cricketballs': [3000, 3],\n",
    "    'footballs': [2500, 2],\n",
    "    'pens': [5900, 5],\n",
    "    'iron': [11000, 10],\n",
    "    'waterbottles': [5000,4],\n",
    "    'pouches': [10000,8]})\n",
    "\n",
    "m = gp.Model(\"model\")\n",
    "variables = m.addVars(commodities, lb=0, ub=3, vtype=GRB.INTEGER)\n",
    "m.setObjective(variables.prod(price), GRB.MAXIMIZE)\n",
    "m.addConstr(variables.prod(weight)<=66)\n",
    "m.optimize()\n",
    "m.write('classproblem.lp')\n",
    "m.write('solution.sol')"
   ]
  },
  {
   "cell_type": "code",
   "execution_count": null,
   "id": "british-background",
   "metadata": {},
   "outputs": [],
   "source": []
  },
  {
   "cell_type": "code",
   "execution_count": null,
   "id": "middle-shift",
   "metadata": {},
   "outputs": [],
   "source": []
  }
 ],
 "metadata": {
  "kernelspec": {
   "display_name": "Python 3",
   "language": "python",
   "name": "python3"
  },
  "language_info": {
   "codemirror_mode": {
    "name": "ipython",
    "version": 3
   },
   "file_extension": ".py",
   "mimetype": "text/x-python",
   "name": "python",
   "nbconvert_exporter": "python",
   "pygments_lexer": "ipython3",
   "version": "3.6.12"
  }
 },
 "nbformat": 4,
 "nbformat_minor": 5
}
